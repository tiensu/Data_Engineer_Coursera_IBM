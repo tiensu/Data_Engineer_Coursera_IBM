{
 "cells": [
  {
   "cell_type": "markdown",
   "metadata": {},
   "source": [
    "<p style=\"text-align:center\">\n",
    "    <a href=\"https://skills.network/?utm_medium=Exinfluencer&utm_source=Exinfluencer&utm_content=000026UJ&utm_term=10006555&utm_id=NA-SkillsNetwork-Channel-SkillsNetworkCoursesIBMDeveloperSkillsNetworkPY0221ENSkillsNetwork23455645-2022-01-01\" target=\"_blank\">\n",
    "    <img src=\"https://cf-courses-data.s3.us.cloud-object-storage.appdomain.cloud/assets/logos/SN_web_lightmode.png\" width=\"200\" alt=\"Skills Network Logo\"  />\n",
    "    </a>\n",
    "</p>\n"
   ]
  },
  {
   "cell_type": "markdown",
   "metadata": {},
   "source": [
    "# Peer Review Assignment - Data Engineer - Extract API Data\n"
   ]
  },
  {
   "cell_type": "markdown",
   "metadata": {},
   "source": [
    "Estimated time needed: **20** minutes\n"
   ]
  },
  {
   "cell_type": "markdown",
   "metadata": {},
   "source": [
    "## Objectives\n",
    "\n",
    "In this part you will:\n",
    "\n",
    "*   Collect exchange rate data using an API\n",
    "*   Store the data as a CSV\n"
   ]
  },
  {
   "cell_type": "markdown",
   "metadata": {},
   "source": [
    "For this lab, we are going to be using Python and several Python libraries. Some of these libraries might be installed in your lab environment or in SN Labs. Others may need to be installed by you. The cells below will install these libraries when executed.\n"
   ]
  },
  {
   "cell_type": "code",
   "execution_count": null,
   "metadata": {},
   "outputs": [],
   "source": [
    "#!mamba install pandas==1.3.3 -y\n",
    "#!mamba install requests==2.26.0 -y"
   ]
  },
  {
   "cell_type": "markdown",
   "metadata": {},
   "source": [
    "## Imports\n",
    "\n",
    "Import any additional libraries you may need here.\n"
   ]
  },
  {
   "cell_type": "code",
   "execution_count": 3,
   "metadata": {},
   "outputs": [],
   "source": [
    "import requests\n",
    "import pandas as pd"
   ]
  },
  {
   "cell_type": "markdown",
   "metadata": {},
   "source": [
    "## Extract Data Using an API\n"
   ]
  },
  {
   "cell_type": "markdown",
   "metadata": {},
   "source": [
    "Using ExchangeRate-API we will extract currency exchange rate data. Use the below steps to get the access key and to get the data.\n",
    "\n",
    "1.  Open the url : [https://exchangeratesapi.io/](https://exchangeratesapi.io/?utm_medium=Exinfluencer&utm_source=Exinfluencer&utm_content=000026UJ&utm_term=10006555&utm_id=NA-SkillsNetwork-Channel-SkillsNetworkCoursesIBMDeveloperSkillsNetworkPY0221ENSkillsNetwork23455645-2022-01-01) and click on **Get Free API Key**.\n",
    "2.  Subscribe for Free plan and Sign-in with the Google Account.\n",
    "3.  Once the account is created you will be redirected to [https://apilayer.com](https://apilayer.com/?utm_medium=Exinfluencer&utm_source=Exinfluencer&utm_content=000026UJ&utm_term=10006555&utm_id=NA-SkillsNetwork-Channel-SkillsNetworkCoursesIBMDeveloperSkillsNetworkPY0221ENSkillsNetwork23455645-2022-01-01) website.\n",
    "4.  Now, click on the **user icon** and click **Account** as shown below:\n",
    "\n",
    "<img src=\"https://cf-courses-data.s3.us.cloud-object-storage.appdomain.cloud/IBMDeveloperSkillsNetwork-PY0221EN-SkillsNetwork/labs/module%206/Final%20Assignment/Images/account.png\"/>\n",
    "\n",
    "3.  Scroll down and you will get the API Key section. Copy the API key and use in the url in Question 1.\n"
   ]
  },
  {
   "cell_type": "markdown",
   "metadata": {},
   "source": [
    "### Call the API\n",
    "\n",
    "<b> Question 1</b> Using the `requests` library call the endpoint given above and save the text, remember the first few characters of the output:\n"
   ]
  },
  {
   "cell_type": "code",
   "execution_count": 13,
   "metadata": {},
   "outputs": [
    {
     "name": "stdout",
     "output_type": "stream",
     "text": [
      "{\n",
      "    \"success\": true,\n",
      "    \"timestamp\": 1676988423,\n",
      "    \"base\": \"EUR\",\n",
      "    \"date\": \"2023-02-21\",\n",
      "    \"rates\": {\n",
      "        \"AED\": 3.917828,\n",
      "        \"AFN\": 95.275387,\n",
      "        \"ALL\": 115.246402,\n",
      "        \"AMD\": 417.792574,\n",
      "        \"ANG\": 1.923717,\n",
      "        \"AOA\": 540.266427,\n",
      "        \"ARS\": 205.982279,\n",
      "        \"AUD\": 1.551742,\n",
      "        \"AWG\": 1.920002,\n",
      "        \"AZN\": 1.827769,\n",
      "        \"BAM\": 1.958801,\n",
      "        \"BBD\": 2.155159,\n",
      "        \"BDT\": 113.359865,\n",
      "        \"BGN\": 1.954648,\n",
      "        \"BHD\": 0.401991,\n",
      "        \"BIF\": 2217.246186,\n",
      "        \"BMD\": 1.066668,\n",
      "        \"BND\": 1.428366,\n",
      "        \"BOB\": 7.375797,\n",
      "        \"BRL\": 5.512569,\n",
      "        \"BSD\": 1.067299,\n",
      "        \"BTC\": 4.3344521e-05,\n",
      "        \"BTN\": 88.385773,\n",
      "        \"BWP\": 14.100116,\n",
      "        \"BYN\": 2.694124,\n",
      "        \"BYR\": 20906.6868,\n",
      "        \"BZD\": 2.151513,\n",
      "        \"CAD\": 1.439228,\n",
      "        \"CDF\": 2183.468612,\n",
      "        \"CHF\": 0.986772,\n",
      "        \"CLF\": 0.030727,\n",
      "        \"CLP\": 847.755848,\n",
      "        \"CNY\": 7.336217,\n",
      "        \"COP\": 5257.658396,\n",
      "        \"CRC\": 595.84762,\n",
      "        \"CUC\": 1.066668,\n",
      "        \"CUP\": 28.266694,\n",
      "        \"CVE\": 110.425223,\n",
      "        \"CZK\": 23.737582,\n",
      "        \"DJF\": 190.050901,\n",
      "        \"DKK\": 7.445607,\n",
      "        \"DOP\": 59.763598,\n",
      "        \"DZD\": 146.214537,\n",
      "        \"EGP\": 32.641314,\n",
      "        \"ERN\": 16.000015,\n",
      "        \"ETB\": 57.385385,\n",
      "        \"EUR\": 1,\n",
      "        \"FJD\": 2.345389,\n",
      "        \"FKP\": 0.886097,\n",
      "        \"GBP\": 0.881014,\n",
      "        \"GEL\": 2.821347,\n",
      "        \"GGP\": 0.886097,\n",
      "        \"GHS\": 13.608492,\n",
      "        \"GIP\": 0.886097,\n",
      "        \"GMD\": 65.227013,\n",
      "        \"GNF\": 9183.697386,\n",
      "        \"GTQ\": 8.344586,\n",
      "        \"GYD\": 225.217897,\n",
      "        \"HKD\": 8.367421,\n",
      "        \"HNL\": 26.313771,\n",
      "        \"HRK\": 7.525121,\n",
      "        \"HTG\": 159.337878,\n",
      "        \"HUF\": 382.005501,\n",
      "        \"IDR\": 16198.415599,\n",
      "        \"ILS\": 3.875481,\n",
      "        \"IMP\": 0.886097,\n",
      "        \"INR\": 88.282165,\n",
      "        \"IQD\": 1557.85723,\n",
      "        \"IRR\": 45066.70953,\n",
      "        \"ISK\": 154.122727,\n",
      "        \"JEP\": 0.886097,\n",
      "        \"JMD\": 164.576595,\n",
      "        \"JOD\": 0.756695,\n",
      "        \"JPY\": 143.813488,\n",
      "        \"KES\": 134.538324,\n",
      "        \"KGS\": 93.246067,\n",
      "        \"KHR\": 4349.496388,\n",
      "        \"KMF\": 491.30441,\n",
      "        \"KPW\": 959.954288,\n",
      "        \"KRW\": 1388.059999,\n",
      "        \"KWD\": 0.327019,\n",
      "        \"KYD\": 0.889457,\n",
      "        \"KZT\": 477.032155,\n",
      "        \"LAK\": 17989.372716,\n",
      "        \"LBP\": 16021.097381,\n",
      "        \"LKR\": 389.600747,\n",
      "        \"LRD\": 167.789474,\n",
      "        \"LSL\": 19.232183,\n",
      "        \"LTL\": 3.149593,\n",
      "        \"LVL\": 0.645217,\n",
      "        \"LYD\": 5.134904,\n",
      "        \"MAD\": 11.078012,\n",
      "        \"MDL\": 20.041015,\n",
      "        \"MGA\": 4574.440321,\n",
      "        \"MKD\": 61.642028,\n",
      "        \"MMK\": 2241.48512,\n",
      "        \"MNT\": 3760.001697,\n",
      "        \"MOP\": 8.623259,\n",
      "        \"MRO\": 380.800183,\n",
      "        \"MUR\": 49.749332,\n",
      "        \"MVR\": 16.384187,\n",
      "        \"MWK\": 1095.636121,\n",
      "        \"MXN\": 19.578261,\n",
      "        \"MYR\": 4.728006,\n",
      "        \"MZN\": 67.306766,\n",
      "        \"NAD\": 19.232152,\n",
      "        \"NGN\": 491.202764,\n",
      "        \"NIO\": 39.003529,\n",
      "        \"NOK\": 10.965024,\n",
      "        \"NPR\": 141.41611,\n",
      "        \"NZD\": 1.710546,\n",
      "        \"OMR\": 0.41011,\n",
      "        \"PAB\": 1.067344,\n",
      "        \"PEN\": 4.099933,\n",
      "        \"PGK\": 3.809402,\n",
      "        \"PHP\": 58.631517,\n",
      "        \"PKR\": 279.925316,\n",
      "        \"PLN\": 4.746312,\n",
      "        \"PYG\": 7827.771493,\n",
      "        \"QAR\": 3.883751,\n",
      "        \"RON\": 4.923842,\n",
      "        \"RSD\": 117.365081,\n",
      "        \"RUB\": 80.103456,\n",
      "        \"RWF\": 1160.753029,\n",
      "        \"SAR\": 4.000943,\n",
      "        \"SBD\": 8.81679,\n",
      "        \"SCR\": 13.878085,\n",
      "        \"SDG\": 624.543626,\n",
      "        \"SEK\": 11.005738,\n",
      "        \"SGD\": 1.427607,\n",
      "        \"SHP\": 1.297868,\n",
      "        \"SLE\": 21.162717,\n",
      "        \"SLL\": 21066.686705,\n",
      "        \"SOS\": 607.465743,\n",
      "        \"SRD\": 35.598434,\n",
      "        \"STD\": 22077.867669,\n",
      "        \"SVC\": 9.339734,\n",
      "        \"SYP\": 2680.034311,\n",
      "        \"SZL\": 19.434138,\n",
      "        \"THB\": 36.884823,\n",
      "        \"TJS\": 11.425378,\n",
      "        \"TMT\": 3.744004,\n",
      "        \"TND\": 3.307198,\n",
      "        \"TOP\": 2.498452,\n",
      "        \"TRY\": 20.124179,\n",
      "        \"TTD\": 7.243291,\n",
      "        \"TWD\": 32.489949,\n",
      "        \"TZS\": 2494.935471,\n",
      "        \"UAH\": 39.229586,\n",
      "        \"UGX\": 3938.480739,\n",
      "        \"USD\": 1.066668,\n",
      "        \"UYU\": 42.254261,\n",
      "        \"UZS\": 12082.427502,\n",
      "        \"VEF\": 2596806.014702,\n",
      "        \"VES\": 25.980746,\n",
      "        \"VND\": 25301.357698,\n",
      "        \"VUV\": 127.004394,\n",
      "        \"WST\": 2.888366,\n",
      "        \"XAF\": 656.953327,\n",
      "        \"XAG\": 0.048723,\n",
      "        \"XAU\": 0.00058,\n",
      "        \"XCD\": 2.882723,\n",
      "        \"XDR\": 0.801916,\n",
      "        \"XOF\": 656.937906,\n",
      "        \"XPF\": 119.574564,\n",
      "        \"YER\": 267.040443,\n",
      "        \"ZAR\": 19.439489,\n",
      "        \"ZMK\": 9601.285998,\n",
      "        \"ZMW\": 20.8406,\n",
      "        \"ZWL\": 343.466562\n",
      "    }\n",
      "}\n",
      "\n"
     ]
    }
   ],
   "source": [
    "# Write your code here\n",
    "url = \"https://api.apilayer.com/exchangerates_data/latest?base=EUR&apikey=3xP4DBMmnhZPugdPwGUNBOwPq29AYSNg\" #Make sure to change ******* to your API key.\n",
    "\n",
    "html_data = requests.get(url)\n",
    "print(html_data.text)"
   ]
  },
  {
   "cell_type": "markdown",
   "metadata": {},
   "source": [
    "### Save as DataFrame\n",
    "\n",
    "<b> Question 2</b>  Using the data gathered turn it into a `pandas` dataframe. The dataframe should have the Currency as the index and `Rate` as their columns. Make sure to drop unnecessary columns.\n"
   ]
  },
  {
   "cell_type": "code",
   "execution_count": 14,
   "metadata": {},
   "outputs": [
    {
     "data": {
      "text/html": [
       "<div>\n",
       "<style scoped>\n",
       "    .dataframe tbody tr th:only-of-type {\n",
       "        vertical-align: middle;\n",
       "    }\n",
       "\n",
       "    .dataframe tbody tr th {\n",
       "        vertical-align: top;\n",
       "    }\n",
       "\n",
       "    .dataframe thead th {\n",
       "        text-align: right;\n",
       "    }\n",
       "</style>\n",
       "<table border=\"1\" class=\"dataframe\">\n",
       "  <thead>\n",
       "    <tr style=\"text-align: right;\">\n",
       "      <th></th>\n",
       "      <th>success</th>\n",
       "      <th>timestamp</th>\n",
       "      <th>base</th>\n",
       "      <th>date</th>\n",
       "      <th>rates</th>\n",
       "    </tr>\n",
       "  </thead>\n",
       "  <tbody>\n",
       "    <tr>\n",
       "      <th>AED</th>\n",
       "      <td>True</td>\n",
       "      <td>1676988423</td>\n",
       "      <td>EUR</td>\n",
       "      <td>2023-02-21</td>\n",
       "      <td>3.917828</td>\n",
       "    </tr>\n",
       "    <tr>\n",
       "      <th>AFN</th>\n",
       "      <td>True</td>\n",
       "      <td>1676988423</td>\n",
       "      <td>EUR</td>\n",
       "      <td>2023-02-21</td>\n",
       "      <td>95.275387</td>\n",
       "    </tr>\n",
       "    <tr>\n",
       "      <th>ALL</th>\n",
       "      <td>True</td>\n",
       "      <td>1676988423</td>\n",
       "      <td>EUR</td>\n",
       "      <td>2023-02-21</td>\n",
       "      <td>115.246402</td>\n",
       "    </tr>\n",
       "    <tr>\n",
       "      <th>AMD</th>\n",
       "      <td>True</td>\n",
       "      <td>1676988423</td>\n",
       "      <td>EUR</td>\n",
       "      <td>2023-02-21</td>\n",
       "      <td>417.792574</td>\n",
       "    </tr>\n",
       "    <tr>\n",
       "      <th>ANG</th>\n",
       "      <td>True</td>\n",
       "      <td>1676988423</td>\n",
       "      <td>EUR</td>\n",
       "      <td>2023-02-21</td>\n",
       "      <td>1.923717</td>\n",
       "    </tr>\n",
       "  </tbody>\n",
       "</table>\n",
       "</div>"
      ],
      "text/plain": [
       "     success   timestamp base        date       rates\n",
       "AED     True  1676988423  EUR  2023-02-21    3.917828\n",
       "AFN     True  1676988423  EUR  2023-02-21   95.275387\n",
       "ALL     True  1676988423  EUR  2023-02-21  115.246402\n",
       "AMD     True  1676988423  EUR  2023-02-21  417.792574\n",
       "ANG     True  1676988423  EUR  2023-02-21    1.923717"
      ]
     },
     "execution_count": 14,
     "metadata": {},
     "output_type": "execute_result"
    }
   ],
   "source": [
    "# Turn the data into a dataframe\n",
    "decoded = html_data.json()\n",
    "\n",
    "df = pd.DataFrame(decoded)\n",
    "df.head()"
   ]
  },
  {
   "cell_type": "code",
   "execution_count": 16,
   "metadata": {},
   "outputs": [
    {
     "data": {
      "text/html": [
       "<div>\n",
       "<style scoped>\n",
       "    .dataframe tbody tr th:only-of-type {\n",
       "        vertical-align: middle;\n",
       "    }\n",
       "\n",
       "    .dataframe tbody tr th {\n",
       "        vertical-align: top;\n",
       "    }\n",
       "\n",
       "    .dataframe thead th {\n",
       "        text-align: right;\n",
       "    }\n",
       "</style>\n",
       "<table border=\"1\" class=\"dataframe\">\n",
       "  <thead>\n",
       "    <tr style=\"text-align: right;\">\n",
       "      <th></th>\n",
       "      <th>rates</th>\n",
       "    </tr>\n",
       "    <tr>\n",
       "      <th>Currency</th>\n",
       "      <th></th>\n",
       "    </tr>\n",
       "  </thead>\n",
       "  <tbody>\n",
       "    <tr>\n",
       "      <th>AED</th>\n",
       "      <td>3.917828</td>\n",
       "    </tr>\n",
       "    <tr>\n",
       "      <th>AFN</th>\n",
       "      <td>95.275387</td>\n",
       "    </tr>\n",
       "    <tr>\n",
       "      <th>ALL</th>\n",
       "      <td>115.246402</td>\n",
       "    </tr>\n",
       "    <tr>\n",
       "      <th>AMD</th>\n",
       "      <td>417.792574</td>\n",
       "    </tr>\n",
       "    <tr>\n",
       "      <th>ANG</th>\n",
       "      <td>1.923717</td>\n",
       "    </tr>\n",
       "  </tbody>\n",
       "</table>\n",
       "</div>"
      ],
      "text/plain": [
       "               rates\n",
       "Currency            \n",
       "AED         3.917828\n",
       "AFN        95.275387\n",
       "ALL       115.246402\n",
       "AMD       417.792574\n",
       "ANG         1.923717"
      ]
     },
     "execution_count": 16,
     "metadata": {},
     "output_type": "execute_result"
    }
   ],
   "source": [
    "# Drop unnescessary columns\n",
    "clean_df = df.drop(['success', 'timestamp', 'base', 'date'], axis=1)\n",
    "clean_df.index.name = 'Currency'\n",
    "clean_df.head()"
   ]
  },
  {
   "cell_type": "markdown",
   "metadata": {},
   "source": [
    "### Load the Data\n",
    "\n",
    "Using the dataframe save it as a CSV names `exchange_rates_1.csv`.\n"
   ]
  },
  {
   "cell_type": "code",
   "execution_count": 18,
   "metadata": {},
   "outputs": [],
   "source": [
    "# Save the Dataframe\n",
    "clean_df.to_csv(\"Resources/exchange_rates_1.csv\")"
   ]
  },
  {
   "cell_type": "markdown",
   "metadata": {},
   "source": [
    "Your CSV should be in this format with more currencies\n",
    "\n",
    "|     | Rates      |\n",
    "| --- | ---------- |\n",
    "| AED | 4.398618   |\n",
    "| AFN | 92.917693  |\n",
    "| ALL | 123.099093 |\n",
    "| AMD | 621.935674 |\n",
    "| ANG | 2.149648   |\n"
   ]
  },
  {
   "cell_type": "markdown",
   "metadata": {},
   "source": [
    "## Authors\n"
   ]
  },
  {
   "cell_type": "markdown",
   "metadata": {},
   "source": [
    "Ramesh Sannareddy, Joseph Santarcangelo and Azim Hirjani\n"
   ]
  },
  {
   "cell_type": "markdown",
   "metadata": {},
   "source": [
    "### Other Contributors\n"
   ]
  },
  {
   "cell_type": "markdown",
   "metadata": {},
   "source": [
    "Rav Ahuja\n"
   ]
  },
  {
   "cell_type": "markdown",
   "metadata": {},
   "source": [
    "## Change Log\n"
   ]
  },
  {
   "cell_type": "markdown",
   "metadata": {},
   "source": [
    "| Date (YYYY-MM-DD) | Version | Changed By        | Change Description                              |\n",
    "| ----------------- | ------- | ----------------- | ----------------------------------------------- |\n",
    "| 2022-05-06        | 0.3     | Malika            | Updated instructions to get the API and the url |\n",
    "| 2021-04-15        | 0.2     | Malika            | Updated the lab from USD to EUR                 |\n",
    "| 2020-11-25        | 0.1     | Ramesh Sannareddy | Created initial version of the lab              |\n"
   ]
  },
  {
   "cell_type": "markdown",
   "metadata": {},
   "source": [
    "Copyright © 2020 IBM Corporation. This notebook and its source code are released under the terms of the [MIT License](https://cognitiveclass.ai/mit-license?utm_medium=Exinfluencer&utm_source=Exinfluencer&utm_content=000026UJ&utm_term=10006555&utm_id=NA-SkillsNetwork-Channel-SkillsNetworkCoursesIBMDeveloperSkillsNetworkPY0221ENSkillsNetwork23455645-2022-01-01&cm_mmc=Email_Newsletter-\\_-Developer_Ed%2BTech-\\_-WW_WW-\\_-SkillsNetwork-Courses-IBM-DA0321EN-SkillsNetwork-21426264&cm_mmca1=000026UJ&cm_mmca2=10006555&cm_mmca3=M12345678&cvosrc=email.Newsletter.M12345678&cvo_campaign=000026UJ).\n"
   ]
  }
 ],
 "metadata": {
  "kernelspec": {
   "display_name": "Python 3 (ipykernel)",
   "language": "python",
   "name": "python3"
  },
  "language_info": {
   "codemirror_mode": {
    "name": "ipython",
    "version": 3
   },
   "file_extension": ".py",
   "mimetype": "text/x-python",
   "name": "python",
   "nbconvert_exporter": "python",
   "pygments_lexer": "ipython3",
   "version": "3.9.7"
  }
 },
 "nbformat": 4,
 "nbformat_minor": 4
}
